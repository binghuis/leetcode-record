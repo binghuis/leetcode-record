{
 "cells": [
  {
   "cell_type": "markdown",
   "metadata": {},
   "source": [
    "# [1. 两数之和](https://leetcode.cn/problems/two-sum/)\n"
   ]
  },
  {
   "cell_type": "code",
   "execution_count": null,
   "metadata": {},
   "outputs": [],
   "source": [
    "function twoSum(nums: number[], target: number): number[] {\n",
    "  const hash = new Map();\n",
    "  for (let i = 0; i < nums.length; i++) {\n",
    "    const key = target - nums[i];\n",
    "    if (hash.has(key)) {\n",
    "      return [hash.get(key), i];\n",
    "    }\n",
    "    hash.set(nums[i], i);\n",
    "  }\n",
    "  return [];\n",
    "}\n"
   ]
  }
 ],
 "metadata": {
  "kernelspec": {
   "display_name": "Deno",
   "language": "typescript",
   "name": "deno"
  },
  "language_info": {
   "name": "typescript"
  }
 },
 "nbformat": 4,
 "nbformat_minor": 2
}
