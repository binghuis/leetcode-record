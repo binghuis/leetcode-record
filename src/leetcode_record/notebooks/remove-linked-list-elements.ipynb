{
 "cells": [
  {
   "cell_type": "markdown",
   "metadata": {},
   "source": [
    "# [203. 移除链表元素](https://leetcode.cn/problems/remove-linked-list-elements/)\n",
    "\n",
    "https://www.bilibili.com/video/BV18B4y1s7R9/\n"
   ]
  },
  {
   "cell_type": "code",
   "execution_count": null,
   "metadata": {},
   "outputs": [],
   "source": [
    "/**\n",
    " * Definition for singly-linked list.\n",
    " * class ListNode {\n",
    " *     val: number\n",
    " *     next: ListNode | null\n",
    " *     constructor(val?: number, next?: ListNode | null) {\n",
    " *         this.val = (val===undefined ? 0 : val)\n",
    " *         this.next = (next===undefined ? null : next)\n",
    " *     }\n",
    " * }\n",
    " */\n",
    "\n",
    "function removeElements(head: ListNode | null, val: number): ListNode | null {\n",
    "  const dummyHead = new ListNode(null, head);\n",
    "  let cur = dummyHead;\n",
    "  while (cur.next) {\n",
    "    if (cur.next.val === val) {\n",
    "      cur.next = cur.next.next;\n",
    "      continue;\n",
    "    }\n",
    "    cur = cur.next;\n",
    "  }\n",
    "  return dummyHead.next;\n",
    "}\n"
   ]
  }
 ],
 "metadata": {
  "kernelspec": {
   "display_name": "Deno",
   "language": "typescript",
   "name": "deno"
  },
  "language_info": {
   "name": "typescript"
  }
 },
 "nbformat": 4,
 "nbformat_minor": 2
}
