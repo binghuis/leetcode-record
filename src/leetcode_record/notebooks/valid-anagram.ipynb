{
 "cells": [
  {
   "cell_type": "markdown",
   "metadata": {},
   "source": [
    "# [242. 有效的字母异位词](https://leetcode.cn/problems/valid-anagram/)\n",
    "\n",
    "https://www.bilibili.com/video/BV1YG411p7BA/\n"
   ]
  },
  {
   "cell_type": "code",
   "execution_count": 4,
   "metadata": {},
   "outputs": [],
   "source": [
    "function isAnagram(s: string, t: string): boolean {\n",
    "  if (s.length !== t.length) return false;\n",
    "\n",
    "  const arr = new Array(26).fill(0);\n",
    "  const baseCharCode = \"a\".charCodeAt(0);\n",
    "\n",
    "  for (let i = 0; i < s.length; i++) {\n",
    "    arr[s[i].charCodeAt(0) - baseCharCode]++;\n",
    "    arr[t[i].charCodeAt(0) - baseCharCode]--;\n",
    "  }\n",
    "\n",
    "  return arr.every((v) => v === 0);\n",
    "}\n"
   ]
  },
  {
   "cell_type": "code",
   "execution_count": 5,
   "metadata": {},
   "outputs": [
    {
     "data": {
      "text/plain": [
       "\u001b[33mtrue\u001b[39m"
      ]
     },
     "execution_count": 5,
     "metadata": {},
     "output_type": "execute_result"
    }
   ],
   "source": [
    "isAnagram(\"anagram\", \"nagaram\");\n"
   ]
  },
  {
   "cell_type": "code",
   "execution_count": 6,
   "metadata": {},
   "outputs": [
    {
     "data": {
      "text/plain": [
       "\u001b[33mfalse\u001b[39m"
      ]
     },
     "execution_count": 6,
     "metadata": {},
     "output_type": "execute_result"
    }
   ],
   "source": [
    "isAnagram(\"rat\", \"car\");\n"
   ]
  }
 ],
 "metadata": {
  "kernelspec": {
   "display_name": "Deno",
   "language": "typescript",
   "name": "deno"
  },
  "language_info": {
   "codemirror_mode": "typescript",
   "file_extension": ".ts",
   "mimetype": "text/x.typescript",
   "name": "typescript",
   "nbconvert_exporter": "script",
   "pygments_lexer": "typescript",
   "version": "5.5.2"
  }
 },
 "nbformat": 4,
 "nbformat_minor": 2
}
