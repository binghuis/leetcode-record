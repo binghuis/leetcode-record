{
 "cells": [
  {
   "cell_type": "markdown",
   "metadata": {},
   "source": [
    "# [349. 两个数组的交集](https://leetcode.cn/problems/intersection-of-two-arrays/)\n"
   ]
  },
  {
   "cell_type": "code",
   "execution_count": null,
   "metadata": {},
   "outputs": [],
   "source": [
    "function intersection(nums1: number[], nums2: number[]): number[] {\n",
    "  const set = new Set(nums1);\n",
    "  return Array.from(new Set(nums2)).filter((item) => set.has(item));\n",
    "}\n"
   ]
  }
 ],
 "metadata": {
  "kernelspec": {
   "display_name": "Deno",
   "language": "typescript",
   "name": "deno"
  },
  "language_info": {
   "name": "typescript"
  }
 },
 "nbformat": 4,
 "nbformat_minor": 2
}
