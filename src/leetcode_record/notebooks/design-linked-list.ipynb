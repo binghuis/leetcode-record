{
 "cells": [
  {
   "cell_type": "markdown",
   "metadata": {},
   "source": [
    "# [707.设计链表](https://leetcode.cn/problems/design-linked-list/)\n",
    "\n",
    "https://www.bilibili.com/video/BV1FU4y1X7WD/?spm_id_from=333.337.search-card.all.click&vd_source=a6923c5f0d537812b870792e01eebd2b\n"
   ]
  }
 ],
 "metadata": {
  "language_info": {
   "name": "python"
  }
 },
 "nbformat": 4,
 "nbformat_minor": 2
}
