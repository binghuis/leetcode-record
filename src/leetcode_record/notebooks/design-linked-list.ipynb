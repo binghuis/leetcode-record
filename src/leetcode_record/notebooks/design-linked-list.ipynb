{
 "cells": [
  {
   "cell_type": "markdown",
   "metadata": {},
   "source": [
    "# [707.设计链表](https://leetcode.cn/problems/design-linked-list/)\n",
    "\n",
    "https://www.bilibili.com/video/BV1FU4y1X7WD/\n"
   ]
  },
  {
   "cell_type": "code",
   "execution_count": 5,
   "metadata": {},
   "outputs": [],
   "source": [
    "class ListNode {\n",
    "  val: number;\n",
    "  next: ListNode;\n",
    "  constructor(val: number) {\n",
    "    this.val = val;\n",
    "    this.next = null;\n",
    "  }\n",
    "}\n",
    "\n",
    "class MyLinkedList {\n",
    "  size: number;\n",
    "  constructor() {}\n",
    "\n",
    "  get(index: number): number {}\n",
    "\n",
    "  addAtHead(val: number): void {}\n",
    "\n",
    "  addAtTail(val: number): void {}\n",
    "\n",
    "  addAtIndex(index: number, val: number): void {}\n",
    "\n",
    "  deleteAtIndex(index: number): void {}\n",
    "}\n"
   ]
  }
 ],
 "metadata": {
  "kernelspec": {
   "display_name": "Deno",
   "language": "typescript",
   "name": "deno"
  },
  "language_info": {
   "codemirror_mode": "typescript",
   "file_extension": ".ts",
   "mimetype": "text/x.typescript",
   "name": "typescript",
   "nbconvert_exporter": "script",
   "pygments_lexer": "typescript",
   "version": "5.5.2"
  }
 },
 "nbformat": 4,
 "nbformat_minor": 2
}
