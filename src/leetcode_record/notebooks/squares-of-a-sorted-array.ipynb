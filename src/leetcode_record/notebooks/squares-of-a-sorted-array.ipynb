{
  "cells": [
    {
      "cell_type": "markdown",
      "metadata": {},
      "source": [
        "# [977. 有序数组的平方](https://leetcode.cn/problems/squares-of-a-sorted-array/)\n",
        "\n",
        "https://www.bilibili.com/video/BV1QB4y1D7ep/\n"
      ]
    },
    {
      "cell_type": "code",
      "execution_count": 1,
      "metadata": {},
      "outputs": [],
      "source": [
        "function sortedSquares(nums: number[]): number[] {\n",
        "  let left = 0;\n",
        "  let right = nums.length - 1;\n",
        "  const ret = [];\n",
        "  while (left <= right) {\n",
        "    const leftNum = nums[left] ** 2;\n",
        "    const rightNum = nums[right] ** 2;\n",
        "    if (leftNum > rightNum) {\n",
        "      ret.unshift(leftNum);\n",
        "      left++;\n",
        "    } else {\n",
        "      ret.unshift(rightNum);\n",
        "      right--;\n",
        "    }\n",
        "  }\n",
        "  return ret;\n",
        "}\n"
      ]
    },
    {
      "cell_type": "code",
      "execution_count": 2,
      "metadata": {},
      "outputs": [
        {
          "data": {
            "text/plain": [
              "[ \u001b[33m0\u001b[39m, \u001b[33m1\u001b[39m, \u001b[33m9\u001b[39m, \u001b[33m16\u001b[39m, \u001b[33m100\u001b[39m ]"
            ]
          },
          "execution_count": 2,
          "metadata": {},
          "output_type": "execute_result"
        }
      ],
      "source": [
        "sortedSquares([-4, -1, 0, 3, 10]); // [0,1,9,16,100]\n"
      ]
    },
    {
      "cell_type": "code",
      "execution_count": 3,
      "metadata": {},
      "outputs": [
        {
          "data": {
            "text/plain": [
              "[ \u001b[33m4\u001b[39m, \u001b[33m9\u001b[39m, \u001b[33m9\u001b[39m, \u001b[33m49\u001b[39m, \u001b[33m121\u001b[39m ]"
            ]
          },
          "execution_count": 3,
          "metadata": {},
          "output_type": "execute_result"
        }
      ],
      "source": [
        "sortedSquares([-7, -3, 2, 3, 11]); // [4,9,9,49,121]\n"
      ]
    }
  ],
  "metadata": {
    "kernelspec": {
      "display_name": "Deno",
      "language": "typescript",
      "name": "deno"
    },
    "language_info": {
      "codemirror_mode": "typescript",
      "file_extension": ".ts",
      "mimetype": "text/x.typescript",
      "name": "typescript",
      "nbconvert_exporter": "script",
      "pygments_lexer": "typescript",
      "version": "5.5.2"
    }
  },
  "nbformat": 4,
  "nbformat_minor": 2
}
