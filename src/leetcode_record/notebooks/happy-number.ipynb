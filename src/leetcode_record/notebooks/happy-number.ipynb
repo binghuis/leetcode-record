{
 "cells": [
  {
   "cell_type": "markdown",
   "metadata": {},
   "source": [
    "# [202. 快乐数](https://leetcode.cn/problems/happy-number/)\n"
   ]
  },
  {
   "cell_type": "code",
   "execution_count": null,
   "metadata": {},
   "outputs": [],
   "source": [
    "function isHappy(n: number): boolean {\n",
    "  const hash = new Set();\n",
    "\n",
    "  while (n !== 1) {\n",
    "    if (hash.has(n)) return false;\n",
    "    hash.add(n);\n",
    "    n = n\n",
    "      .toString()\n",
    "      .split(\"\")\n",
    "      .reduce((acc, cur) => acc + Number(cur) ** 2, 0);\n",
    "  }\n",
    "\n",
    "  return true;\n",
    "}\n"
   ]
  }
 ],
 "metadata": {
  "kernelspec": {
   "display_name": "Deno",
   "language": "typescript",
   "name": "deno"
  },
  "language_info": {
   "name": "typescript"
  }
 },
 "nbformat": 4,
 "nbformat_minor": 2
}
