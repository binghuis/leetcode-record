{
 "cells": [
  {
   "cell_type": "markdown",
   "metadata": {},
   "source": [
    "# 27. 移除元素\n"
   ]
  },
  {
   "cell_type": "code",
   "execution_count": 11,
   "metadata": {},
   "outputs": [],
   "source": [
    "function removeElement(nums: number[], val: number): number {\n",
    "  let k = 0;\n",
    "  for (let i = 0; i < nums.length; i++) {\n",
    "    if (nums[i] !== val) {\n",
    "      nums[k] = nums[i];\n",
    "      k++;\n",
    "    }\n",
    "  }\n",
    "  return k;\n",
    "}\n"
   ]
  },
  {
   "cell_type": "code",
   "execution_count": 12,
   "metadata": {},
   "outputs": [
    {
     "data": {
      "text/plain": [
       "[ \u001b[33m2\u001b[39m, \u001b[33m2\u001b[39m, \u001b[33m2\u001b[39m, \u001b[33m3\u001b[39m ]"
      ]
     },
     "execution_count": 12,
     "metadata": {},
     "output_type": "execute_result"
    }
   ],
   "source": [
    "const case1 = [3, 2, 2, 3];\n",
    "removeElement(case1, 3); // [2, 2, _, _]\n",
    "\n",
    "case1;\n"
   ]
  },
  {
   "cell_type": "code",
   "execution_count": 13,
   "metadata": {},
   "outputs": [
    {
     "data": {
      "text/plain": [
       "[\n",
       "  \u001b[33m0\u001b[39m, \u001b[33m1\u001b[39m, \u001b[33m3\u001b[39m, \u001b[33m0\u001b[39m,\n",
       "  \u001b[33m4\u001b[39m, \u001b[33m0\u001b[39m, \u001b[33m4\u001b[39m, \u001b[33m2\u001b[39m\n",
       "]"
      ]
     },
     "execution_count": 13,
     "metadata": {},
     "output_type": "execute_result"
    }
   ],
   "source": [
    "const case2 = [0, 1, 2, 2, 3, 0, 4, 2];\n",
    "removeElement(case2, 2); // [0, 1, 3, 0, 4, _, _, _]\n",
    "\n",
    "case2;\n"
   ]
  }
 ],
 "metadata": {
  "kernelspec": {
   "display_name": "Deno",
   "language": "typescript",
   "name": "deno"
  },
  "language_info": {
   "codemirror_mode": "typescript",
   "file_extension": ".ts",
   "mimetype": "text/x.typescript",
   "name": "typescript",
   "nbconvert_exporter": "script",
   "pygments_lexer": "typescript",
   "version": "5.5.2"
  }
 },
 "nbformat": 4,
 "nbformat_minor": 2
}
