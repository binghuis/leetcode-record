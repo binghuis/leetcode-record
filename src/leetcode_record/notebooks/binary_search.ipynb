{
  "cells": [
    {
      "cell_type": "markdown",
      "metadata": {},
      "source": [
        "# [704. 二分查找](https://leetcode.cn/problems/binary-search/)\n",
        "\n",
        "https://www.bilibili.com/video/BV1fA4y1o715/\n"
      ]
    },
    {
      "cell_type": "code",
      "execution_count": 21,
      "metadata": {},
      "outputs": [],
      "source": [
        "function search(nums: number[], target: number): number {\n",
        "  let left = 0;\n",
        "  let right = nums.length - 1;\n",
        "  while (left <= right) {\n",
        "    const mid = Math.floor((left + right) / 2);\n",
        "    if (nums[mid] === target) {\n",
        "      return mid;\n",
        "    } else if (nums[mid] > target) {\n",
        "      right = mid - 1;\n",
        "    } else {\n",
        "      left = mid + 1;\n",
        "    }\n",
        "  }\n",
        "  return -1;\n",
        "}\n"
      ]
    },
    {
      "cell_type": "code",
      "execution_count": 22,
      "metadata": {},
      "outputs": [
        {
          "data": {
            "text/plain": [
              "\u001b[33mtrue\u001b[39m"
            ]
          },
          "execution_count": 22,
          "metadata": {},
          "output_type": "execute_result"
        }
      ],
      "source": [
        "search([-1, 0, 3, 5, 9, 12], 9) === 4;\n"
      ]
    },
    {
      "cell_type": "code",
      "execution_count": 23,
      "metadata": {},
      "outputs": [
        {
          "data": {
            "text/plain": [
              "\u001b[33mtrue\u001b[39m"
            ]
          },
          "execution_count": 23,
          "metadata": {},
          "output_type": "execute_result"
        }
      ],
      "source": [
        "search([-1, 0, 3, 5, 9, 12], 2) === -1;\n"
      ]
    }
  ],
  "metadata": {
    "kernelspec": {
      "display_name": "Deno",
      "language": "typescript",
      "name": "deno"
    },
    "language_info": {
      "codemirror_mode": "typescript",
      "file_extension": ".ts",
      "mimetype": "text/x.typescript",
      "name": "typescript",
      "nbconvert_exporter": "script",
      "pygments_lexer": "typescript",
      "version": "5.5.2"
    }
  },
  "nbformat": 4,
  "nbformat_minor": 2
}
